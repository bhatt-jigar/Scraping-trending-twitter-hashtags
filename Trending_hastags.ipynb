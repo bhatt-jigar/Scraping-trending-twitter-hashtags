{
 "cells": [
  {
   "cell_type": "code",
   "execution_count": 1,
   "metadata": {},
   "outputs": [
    {
     "name": "stdout",
     "output_type": "stream",
     "text": [
      "The data is stored at C:\\Users\\Sweta\\Twitter_HashTags.csv\n"
     ]
    }
   ],
   "source": [
    "from selenium import webdriver\n",
    "import time\n",
    "import pandas as pd\n",
    "\n",
    "browser=webdriver.Chrome(\"C:\\\\Users\\\\jbhat\\\\Downloads\\\\ChromeDriver\\\\chromedriver.exe\")\n",
    "\n",
    "browser.get('https://twitter.com/explore/tabs/trending')\n",
    "time.sleep(15)\n",
    "sp=browser.find_elements_by_tag_name('span')\n",
    "fl=[]\n",
    "for i in sp:\n",
    "    a=i.get_attribute('textContent')\n",
    "    if (a.startswith('#')):\n",
    "        if a not in fl:\n",
    "            fl.append(a)\n",
    "\n",
    "urls=[]\n",
    "for i in fl:\n",
    "    i=i[1:]\n",
    "    url='https://twitter.com/search?q=%23'+i+'&src=trend_click'\n",
    "    urls.append(url)\n",
    "\n",
    "dic={'HashTag':fl,'URL':urls}\n",
    "\n",
    "df=pd.DataFrame(dic)\n",
    "df.to_csv(\"C:\\\\Users\\\\jbhat\\\\ISB1\\\\Python Projects\\\\Scraping trending twitter hashtags\\\\sample_csv\\\\Twitter_HT.csv\",index=False)\n",
    "print(\"The data is stored at C:\\\\Users\\\\Sweta\\\\Twitter_HashTags.csv\")"
   ]
  }
 ],
 "metadata": {
  "kernelspec": {
   "display_name": "Python 3",
   "language": "python",
   "name": "python3"
  },
  "language_info": {
   "codemirror_mode": {
    "name": "ipython",
    "version": 3
   },
   "file_extension": ".py",
   "mimetype": "text/x-python",
   "name": "python",
   "nbconvert_exporter": "python",
   "pygments_lexer": "ipython3",
   "version": "3.7.1"
  }
 },
 "nbformat": 4,
 "nbformat_minor": 2
}
